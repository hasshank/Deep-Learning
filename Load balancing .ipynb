{
  "nbformat": 4,
  "nbformat_minor": 0,
  "metadata": {
    "colab": {
      "provenance": []
    },
    "kernelspec": {
      "name": "python3",
      "display_name": "Python 3"
    },
    "accelerator": "GPU"
  },
  "cells": [
    {
      "metadata": {
        "id": "Ot79jiI7GiHR"
      },
      "cell_type": "markdown",
      "source": [
        "# Setup "
      ]
    },
    {
      "metadata": {
        "id": "xdHrJctkrH9U"
      },
      "cell_type": "code",
      "source": [
        "%%capture\n",
        "!pip install watermark"
      ],
      "execution_count": null,
      "outputs": []
    },
    {
      "metadata": {
        "id": "conjYMPerLfW",
        "outputId": "e0d8e3c2-5e50-4c87-f05d-a2e2b08f0e5e",
        "colab": {
          "base_uri": "https://localhost:8080/",
          "height": 193
        }
      },
      "cell_type": "code",
      "source": [
        "%load_ext watermark\n",
        "%watermark -p tensorflow,numpy -m"
      ],
      "execution_count": null,
      "outputs": [
        {
          "output_type": "stream",
          "text": [
            "tensorflow 1.12.0\n",
            "numpy 1.14.6\n",
            "\n",
            "compiler   : GCC 8.2.0\n",
            "system     : Linux\n",
            "release    : 4.14.65+\n",
            "machine    : x86_64\n",
            "processor  : x86_64\n",
            "CPU cores  : 2\n",
            "interpreter: 64bit\n"
          ],
          "name": "stdout"
        }
      ]
    },
    {
      "metadata": {
        "id": "m3HdMsWg1GOi",
        "outputId": "f6a72c40-c574-441e-84d4-1bcdb90a92f1",
        "colab": {
          "base_uri": "https://localhost:8080/",
          "height": 107
        }
      },
      "cell_type": "code",
      "source": [
        "from sklearn.model_selection import StratifiedShuffleSplit\n",
        "\n",
        "from math import sqrt\n",
        "from numpy import concatenate\n",
        "from matplotlib import pyplot\n",
        "from pandas import read_csv\n",
        "from pandas import DataFrame\n",
        "from pandas import concat\n",
        "from sklearn.preprocessing import MinMaxScaler\n",
        "from sklearn.preprocessing import LabelEncoder\n",
        "from sklearn.metrics import mean_squared_error\n",
        "from keras.models import Sequential\n",
        "from keras.layers import Dense\n",
        "from keras.layers import LSTM\n",
        "import sys\n",
        "import os\n",
        "os.environ['TF_CPP_MIN_LOG_LEVEL']='3'\n",
        "import tensorflow as tf\n",
        "tf.logging.set_verbosity(tf.logging.ERROR)\n",
        "from tensorflow.python.framework import ops\n",
        "from tensorflow.python.ops import clip_ops\n",
        "from tensorflow.contrib.rnn import LSTMCell\n",
        "#from tensorflow.contrib.rnn.python.ops import core_rnn\n",
        "from tensorflow.python.ops import rnn\n",
        "import matplotlib.pylab as plt\n",
        "import math\n",
        "from scipy.stats import logistic\n",
        "import pandas as pd\n",
        "from pandas import read_csv\n",
        "from datetime import datetime\n",
        "import numpy as np\n",
        "from sklearn.cross_validation import train_test_split\n",
        "from sklearn.preprocessing import MultiLabelBinarizer\n",
        "import seaborn as sns\n",
        "%matplotlib inline\n",
        "\n",
        "from keras.preprocessing import sequence\n",
        "from keras.models import Sequential\n",
        "from keras.layers import Dense, Embedding, Dropout\n",
        "from keras.layers import LSTM, CuDNNLSTM\n",
        "from keras.datasets import imdb\n",
        "\n",
        "from distutils.version import LooseVersion as LV\n",
        "from keras import __version__\n",
        "from keras import backend as K\n",
        "\n",
        "from IPython.display import SVG\n",
        "from keras.utils.vis_utils import model_to_dot\n",
        "\n",
        "import numpy as np\n",
        "import matplotlib.pyplot as plt\n",
        "import seaborn as sns\n",
        "sns.set()\n",
        "\n",
        "print('Using Keras version:', __version__, 'backend:', K.backend())\n",
        "assert(LV(__version__) >= LV(\"2.0.0\"))"
      ],
      "execution_count": null,
      "outputs": [
        {
          "output_type": "stream",
          "text": [
            "Using TensorFlow backend.\n"
          ],
          "name": "stderr"
        },
        {
          "output_type": "stream",
          "text": [
            "Using Keras version: 2.2.4 backend: tensorflow\n"
          ],
          "name": "stdout"
        },
        {
          "output_type": "stream",
          "text": [
            "/usr/local/lib/python3.6/dist-packages/sklearn/cross_validation.py:41: DeprecationWarning: This module was deprecated in version 0.18 in favor of the model_selection module into which all the refactored classes and functions are moved. Also note that the interface of the new CV iterators are different from that of this module. This module will be removed in 0.20.\n",
            "  \"This module will be removed in 0.20.\", DeprecationWarning)\n"
          ],
          "name": "stderr"
        }
      ]
    },
    {
      "metadata": {
        "id": "DnrzFTnCFIhY"
      },
      "cell_type": "markdown",
      "source": [
        "# Functions Definition\n"
      ]
    },
    {
      "metadata": {
        "id": "svJdYQXFE6Q0"
      },
      "cell_type": "code",
      "source": [
        "def series_to_supervised(data, columns, n_in=1, n_out=1, dropnan=True):\n",
        "    \"\"\"convert series to supervised learning\"\"\"\n",
        "    n_vars = 1 if type(data) is list else data.shape[1]\n",
        "    df = pd.DataFrame(data)\n",
        "    df_columns = columns\n",
        "    cols, names = list(), list()\n",
        "    # input sequence (t-n, ... t-1)\n",
        "    for i in range(n_in, 0, -1):\n",
        "        cols.append(df.shift(i))\n",
        "        names += [('{}(t-{})'.format(df_columns[j], i)) for j in range(n_vars)]\n",
        "    # forecast sequence (t, t+1, ... t+n)\n",
        "    for i in range(0, n_out):\n",
        "        cols.append(df.shift(-i))\n",
        "        if i == 0:\n",
        "            names += [('{}(t)'.format(df_columns[j])) for j in range(n_vars)]\n",
        "        else:\n",
        "            names += [('{}(t+{})'.format(df_columns[j], i)) for j in range(n_vars)]\n",
        "    # put it all together\n",
        "    agg = pd.concat(cols, axis=1)\n",
        "    agg.columns = names\n",
        "    # drop rows with NaN values\n",
        "    if dropnan:\n",
        "        agg.dropna(inplace=True)\n",
        "    return agg\n",
        "\n",
        "def sample_batch(X_train, Y_train, X_test, Y_test, batch_size):\n",
        "    global BATCH_START\n",
        "    \"\"\" Function to sample a batch for training\"\"\"\n",
        "    X_train_batch = X_train[BATCH_START:(BATCH_START + batch_size)]\n",
        "    y_train_batch = Y_train[BATCH_START:(BATCH_START + batch_size)]\n",
        "    X_test_batch = X_test[BATCH_START:(BATCH_START + batch_size)]\n",
        "    y_test_batch = Y_test[BATCH_START:(BATCH_START + batch_size)]\n",
        "    BATCH_START += batch_size\n",
        "    return X_train_batch, y_train_batch, X_test_batch, y_test_batch\n",
        "\n",
        "def get_server_data(data_all, server_id):\n",
        "    _columns_all = data_all.columns\n",
        "    key_to_match = 'server_{}_'.format(server_id)\n",
        "    _cols = [_col for _col in _columns_all if key_to_match in _col]\n",
        "    result = data_all[_cols].copy()\n",
        "    _cols_mapper = {}\n",
        "    for _col in _cols:\n",
        "        _cols_mapper[_col] = _col.replace('server_{}_'.format(server_id), '')\n",
        "    result = result.rename(index=str, columns=_cols_mapper)\n",
        "    result['label'] = ['server_{}'.format(server_id)] * result.shape[0]\n",
        "    return result"
      ],
      "execution_count": null,
      "outputs": []
    },
    {
      "metadata": {
        "id": "YCsrSc3rFtgF"
      },
      "cell_type": "markdown",
      "source": [
        "# Load Data\n"
      ]
    },
    {
      "metadata": {
        "id": "QRqLgDInf21J",
        "outputId": "5896bb99-0f8d-4c5f-c03a-5bf635df7d14",
        "colab": {
          "base_uri": "https://localhost:8080/",
          "height": 125
        }
      },
      "cell_type": "code",
      "source": [
        "from google.colab import drive\n",
        "drive.mount('/content/gdrive')"
      ],
      "execution_count": null,
      "outputs": [
        {
          "output_type": "stream",
          "text": [
            "Go to this URL in a browser: https://accounts.google.com/o/oauth2/auth?client_id=947318989803-6bn6qk8qdgf4n4g3pfee6491hc0brc4i.apps.googleusercontent.com&redirect_uri=urn%3Aietf%3Awg%3Aoauth%3A2.0%3Aoob&scope=email%20https%3A%2F%2Fwww.googleapis.com%2Fauth%2Fdocs.test%20https%3A%2F%2Fwww.googleapis.com%2Fauth%2Fdrive%20https%3A%2F%2Fwww.googleapis.com%2Fauth%2Fdrive.photos.readonly%20https%3A%2F%2Fwww.googleapis.com%2Fauth%2Fpeopleapi.readonly&response_type=code\n",
            "\n",
            "Enter your authorization code:\n",
            "··········\n",
            "Mounted at /content/gdrive\n"
          ],
          "name": "stdout"
        }
      ]
    },
    {
      "metadata": {
        "id": "xs2L_gGQ248H"
      },
      "cell_type": "code",
      "source": [
        "dataset = pd.read_csv('/content/gdrive/My Drive/test.csv', sep='\\t', index_col=0)"
      ],
      "execution_count": null,
      "outputs": []
    },
    {
      "metadata": {
        "id": "zIxd24IFjI_B",
        "outputId": "f77c2662-bfbf-406e-e52b-4b44d139dd41",
        "colab": {
          "base_uri": "https://localhost:8080/",
          "height": 252
        }
      },
      "cell_type": "code",
      "source": [
        "dataset.head(5)"
      ],
      "execution_count": null,
      "outputs": [
        {
          "output_type": "execute_result",
          "data": {
            "text/html": [
              "<div>\n",
              "<style scoped>\n",
              "    .dataframe tbody tr th:only-of-type {\n",
              "        vertical-align: middle;\n",
              "    }\n",
              "\n",
              "    .dataframe tbody tr th {\n",
              "        vertical-align: top;\n",
              "    }\n",
              "\n",
              "    .dataframe thead th {\n",
              "        text-align: right;\n",
              "    }\n",
              "</style>\n",
              "<table border=\"1\" class=\"dataframe\">\n",
              "  <thead>\n",
              "    <tr style=\"text-align: right;\">\n",
              "      <th></th>\n",
              "      <th>t</th>\n",
              "      <th>server_1_cpu</th>\n",
              "      <th>server_1_apache</th>\n",
              "      <th>server_1_n_packet</th>\n",
              "      <th>server_1_n_byte</th>\n",
              "      <th>server_1_n_flow_new</th>\n",
              "      <th>server_1_n_flow_end</th>\n",
              "      <th>server_1_n_first_ack</th>\n",
              "      <th>server_1_n_data_ack</th>\n",
              "      <th>server_1_d_n_packet</th>\n",
              "      <th>...</th>\n",
              "      <th>server_12_cpu_sm_2</th>\n",
              "      <th>server_12_cpu_sm_3</th>\n",
              "      <th>server_12_cpu_sm_4</th>\n",
              "      <th>server_12_cpu_sm_5</th>\n",
              "      <th>server_12_cpu_sm_10</th>\n",
              "      <th>server_12_cpu_sm_15</th>\n",
              "      <th>server_12_cpu_sm_20</th>\n",
              "      <th>server_12_cpu_sm_25</th>\n",
              "      <th>server_12_cpu_sm_50</th>\n",
              "      <th>server_12_cpu_sm_100</th>\n",
              "    </tr>\n",
              "  </thead>\n",
              "  <tbody>\n",
              "    <tr>\n",
              "      <th>0</th>\n",
              "      <td>9.12</td>\n",
              "      <td>0.0</td>\n",
              "      <td>0.0</td>\n",
              "      <td>0.0</td>\n",
              "      <td>0.0</td>\n",
              "      <td>0.0</td>\n",
              "      <td>0.0</td>\n",
              "      <td>0.0</td>\n",
              "      <td>0.0</td>\n",
              "      <td>0.0</td>\n",
              "      <td>...</td>\n",
              "      <td>0.0</td>\n",
              "      <td>0.0</td>\n",
              "      <td>0.0</td>\n",
              "      <td>0.0</td>\n",
              "      <td>0.0</td>\n",
              "      <td>0.0</td>\n",
              "      <td>0.0</td>\n",
              "      <td>0.0</td>\n",
              "      <td>7.0</td>\n",
              "      <td>7.0</td>\n",
              "    </tr>\n",
              "    <tr>\n",
              "      <th>1</th>\n",
              "      <td>9.13</td>\n",
              "      <td>0.0</td>\n",
              "      <td>0.0</td>\n",
              "      <td>0.0</td>\n",
              "      <td>0.0</td>\n",
              "      <td>0.0</td>\n",
              "      <td>0.0</td>\n",
              "      <td>0.0</td>\n",
              "      <td>0.0</td>\n",
              "      <td>0.0</td>\n",
              "      <td>...</td>\n",
              "      <td>0.0</td>\n",
              "      <td>0.0</td>\n",
              "      <td>0.0</td>\n",
              "      <td>0.0</td>\n",
              "      <td>0.0</td>\n",
              "      <td>0.0</td>\n",
              "      <td>0.0</td>\n",
              "      <td>0.0</td>\n",
              "      <td>7.0</td>\n",
              "      <td>7.0</td>\n",
              "    </tr>\n",
              "    <tr>\n",
              "      <th>2</th>\n",
              "      <td>9.14</td>\n",
              "      <td>0.0</td>\n",
              "      <td>0.0</td>\n",
              "      <td>0.0</td>\n",
              "      <td>0.0</td>\n",
              "      <td>0.0</td>\n",
              "      <td>0.0</td>\n",
              "      <td>0.0</td>\n",
              "      <td>0.0</td>\n",
              "      <td>0.0</td>\n",
              "      <td>...</td>\n",
              "      <td>0.0</td>\n",
              "      <td>0.0</td>\n",
              "      <td>0.0</td>\n",
              "      <td>0.0</td>\n",
              "      <td>0.0</td>\n",
              "      <td>0.0</td>\n",
              "      <td>0.0</td>\n",
              "      <td>0.0</td>\n",
              "      <td>7.0</td>\n",
              "      <td>7.0</td>\n",
              "    </tr>\n",
              "    <tr>\n",
              "      <th>3</th>\n",
              "      <td>9.15</td>\n",
              "      <td>0.0</td>\n",
              "      <td>0.0</td>\n",
              "      <td>0.0</td>\n",
              "      <td>0.0</td>\n",
              "      <td>0.0</td>\n",
              "      <td>0.0</td>\n",
              "      <td>0.0</td>\n",
              "      <td>0.0</td>\n",
              "      <td>0.0</td>\n",
              "      <td>...</td>\n",
              "      <td>0.0</td>\n",
              "      <td>0.0</td>\n",
              "      <td>0.0</td>\n",
              "      <td>0.0</td>\n",
              "      <td>0.0</td>\n",
              "      <td>0.0</td>\n",
              "      <td>0.0</td>\n",
              "      <td>0.0</td>\n",
              "      <td>7.0</td>\n",
              "      <td>7.0</td>\n",
              "    </tr>\n",
              "    <tr>\n",
              "      <th>4</th>\n",
              "      <td>9.16</td>\n",
              "      <td>0.0</td>\n",
              "      <td>0.0</td>\n",
              "      <td>0.0</td>\n",
              "      <td>0.0</td>\n",
              "      <td>0.0</td>\n",
              "      <td>0.0</td>\n",
              "      <td>0.0</td>\n",
              "      <td>0.0</td>\n",
              "      <td>0.0</td>\n",
              "      <td>...</td>\n",
              "      <td>0.0</td>\n",
              "      <td>0.0</td>\n",
              "      <td>0.0</td>\n",
              "      <td>0.0</td>\n",
              "      <td>0.0</td>\n",
              "      <td>0.0</td>\n",
              "      <td>0.0</td>\n",
              "      <td>2.0</td>\n",
              "      <td>7.0</td>\n",
              "      <td>7.0</td>\n",
              "    </tr>\n",
              "  </tbody>\n",
              "</table>\n",
              "<p>5 rows × 793 columns</p>\n",
              "</div>"
            ],
            "text/plain": [
              "      t  server_1_cpu  server_1_apache  server_1_n_packet  server_1_n_byte  \\\n",
              "0  9.12           0.0              0.0                0.0              0.0   \n",
              "1  9.13           0.0              0.0                0.0              0.0   \n",
              "2  9.14           0.0              0.0                0.0              0.0   \n",
              "3  9.15           0.0              0.0                0.0              0.0   \n",
              "4  9.16           0.0              0.0                0.0              0.0   \n",
              "\n",
              "   server_1_n_flow_new  server_1_n_flow_end  server_1_n_first_ack  \\\n",
              "0                  0.0                  0.0                   0.0   \n",
              "1                  0.0                  0.0                   0.0   \n",
              "2                  0.0                  0.0                   0.0   \n",
              "3                  0.0                  0.0                   0.0   \n",
              "4                  0.0                  0.0                   0.0   \n",
              "\n",
              "   server_1_n_data_ack  server_1_d_n_packet          ...           \\\n",
              "0                  0.0                  0.0          ...            \n",
              "1                  0.0                  0.0          ...            \n",
              "2                  0.0                  0.0          ...            \n",
              "3                  0.0                  0.0          ...            \n",
              "4                  0.0                  0.0          ...            \n",
              "\n",
              "   server_12_cpu_sm_2  server_12_cpu_sm_3  server_12_cpu_sm_4  \\\n",
              "0                 0.0                 0.0                 0.0   \n",
              "1                 0.0                 0.0                 0.0   \n",
              "2                 0.0                 0.0                 0.0   \n",
              "3                 0.0                 0.0                 0.0   \n",
              "4                 0.0                 0.0                 0.0   \n",
              "\n",
              "   server_12_cpu_sm_5  server_12_cpu_sm_10  server_12_cpu_sm_15  \\\n",
              "0                 0.0                  0.0                  0.0   \n",
              "1                 0.0                  0.0                  0.0   \n",
              "2                 0.0                  0.0                  0.0   \n",
              "3                 0.0                  0.0                  0.0   \n",
              "4                 0.0                  0.0                  0.0   \n",
              "\n",
              "   server_12_cpu_sm_20  server_12_cpu_sm_25  server_12_cpu_sm_50  \\\n",
              "0                  0.0                  0.0                  7.0   \n",
              "1                  0.0                  0.0                  7.0   \n",
              "2                  0.0                  0.0                  7.0   \n",
              "3                  0.0                  0.0                  7.0   \n",
              "4                  0.0                  2.0                  7.0   \n",
              "\n",
              "   server_12_cpu_sm_100  \n",
              "0                   7.0  \n",
              "1                   7.0  \n",
              "2                   7.0  \n",
              "3                   7.0  \n",
              "4                   7.0  \n",
              "\n",
              "[5 rows x 793 columns]"
            ]
          },
          "metadata": {
            "tags": []
          },
          "execution_count": 7
        }
      ]
    },
    {
      "metadata": {
        "id": "ZfXXbeOcgJ7U"
      },
      "cell_type": "code",
      "source": [
        "# init and load server data\n",
        "FEATURE_FIELDS = [ 'n_packet', 'n_byte', 'n_flow_new', 'n_flow_end', 'n_data_ack',\n",
        "                   'iat_avg', 'iat_std', 'iat_max', 'iat_min', \n",
        "                   'n_retransmission', 'n_404', \n",
        "                   'iat_h1', 'iat_h2', 'iat_h3', 'iat_h4', 'iat_h5', 'iat_h6', 'iat_h7', 'iat_h8', 'iat_h9', \n",
        "                   'data_size_h1', 'data_size_h2', 'data_size_h3', 'data_size_h4', 'data_size_h5', 'data_size_h6', 'data_size_h7', 'data_size_h8']\n",
        "server_id = 1\n",
        "n_thread = 0\n",
        "server_data = get_server_data(dataset, server_id)\n",
        "server_data['is_blank'] = [0 if n == 0 else 1 for n in server_data['n_packet']]\n",
        "N_THREAD = []\n",
        "for i in range(server_data.shape[0]):\n",
        "    n_thread = n_thread + server_data['n_flow_new'].iloc[i] - server_data['n_flow_end'].iloc[i]\n",
        "    N_THREAD.append(n_thread)\n",
        "server_data['n_thread'] = N_THREAD"
      ],
      "execution_count": null,
      "outputs": []
    },
    {
      "metadata": {
        "id": "B2pWyTIYjmUm",
        "outputId": "eeaae835-72e4-49d8-ae40-bf779a3c6207",
        "colab": {
          "base_uri": "https://localhost:8080/",
          "height": 35
        }
      },
      "cell_type": "code",
      "source": [
        "# config\n",
        "server_id = 1  # server to learn\n",
        "seq_len = 50  # sequence length (time steps)\n",
        "sm_level = -1  # cpu smoothness level\n",
        "SMOOTHNESS = [1, 2, 3, 4, 5, 10, 15, 20, 25, 50, 100]\n",
        "cpu_smoothness = SMOOTHNESS[sm_level]\n",
        "GT_FIELDS = ['cpu_sm_{}'.format(cpu_smoothness), 'apache']\n",
        "DATA_FIELDS = GT_FIELDS + FEATURE_FIELDS\n",
        "print('Process Data: server_id = {}, seq_len = {}, cpu_smoothness = {}'.format(server_id, seq_len, cpu_smoothness))"
      ],
      "execution_count": null,
      "outputs": [
        {
          "output_type": "stream",
          "text": [
            "Process Data: server_id = 1, seq_len = 50, cpu_smoothness = 100\n"
          ],
          "name": "stdout"
        }
      ]
    },
    {
      "metadata": {
        "id": "Qweq80FljmR7"
      },
      "cell_type": "code",
      "source": [
        "# normalize and scale dataset\n",
        "\n",
        "feature_without_gradient = [feature for feature in FEATURE_FIELDS if 'd_' not in feature]\n",
        "feature_gradient = [feature for feature in FEATURE_FIELDS if 'd_' in feature]\n",
        "\n",
        "server_data = server_data[DATA_FIELDS].copy()\n",
        "server_data.head()\n",
        "scaler = MinMaxScaler(feature_range=(0, 1))\n",
        "server_data[feature_without_gradient] = scaler.fit_transform(server_data[feature_without_gradient])\n",
        "server_data[GT_FIELDS] = scaler.fit_transform(server_data[GT_FIELDS])\n",
        "\n",
        "gradient_max = np.max(np.abs(server_data[feature_gradient]))\n",
        "for i in gradient_max.keys():\n",
        "    server_data[i] = server_data[i] / gradient_max[i]"
      ],
      "execution_count": null,
      "outputs": []
    },
    {
      "metadata": {
        "id": "vbROp2ybjmPp",
        "colab": {
          "base_uri": "https://localhost:8080/",
          "height": 269
        },
        "outputId": "47af7162-0efe-4c30-aaf2-c5d7fff73982"
      },
      "cell_type": "code",
      "source": [
        "# frame as supervised learning\n",
        "reframed = series_to_supervised(server_data, DATA_FIELDS, seq_len, 1)\n",
        "# drop columns we don't want to predict\n",
        "reframed.head()"
      ],
      "execution_count": null,
      "outputs": [
        {
          "output_type": "execute_result",
          "data": {
            "text/html": [
              "<div>\n",
              "<style scoped>\n",
              "    .dataframe tbody tr th:only-of-type {\n",
              "        vertical-align: middle;\n",
              "    }\n",
              "\n",
              "    .dataframe tbody tr th {\n",
              "        vertical-align: top;\n",
              "    }\n",
              "\n",
              "    .dataframe thead th {\n",
              "        text-align: right;\n",
              "    }\n",
              "</style>\n",
              "<table border=\"1\" class=\"dataframe\">\n",
              "  <thead>\n",
              "    <tr style=\"text-align: right;\">\n",
              "      <th></th>\n",
              "      <th>cpu_sm_100(t-50)</th>\n",
              "      <th>apache(t-50)</th>\n",
              "      <th>n_packet(t-50)</th>\n",
              "      <th>n_byte(t-50)</th>\n",
              "      <th>n_flow_new(t-50)</th>\n",
              "      <th>n_flow_end(t-50)</th>\n",
              "      <th>n_data_ack(t-50)</th>\n",
              "      <th>iat_avg(t-50)</th>\n",
              "      <th>iat_std(t-50)</th>\n",
              "      <th>iat_max(t-50)</th>\n",
              "      <th>...</th>\n",
              "      <th>iat_h8(t)</th>\n",
              "      <th>iat_h9(t)</th>\n",
              "      <th>data_size_h1(t)</th>\n",
              "      <th>data_size_h2(t)</th>\n",
              "      <th>data_size_h3(t)</th>\n",
              "      <th>data_size_h4(t)</th>\n",
              "      <th>data_size_h5(t)</th>\n",
              "      <th>data_size_h6(t)</th>\n",
              "      <th>data_size_h7(t)</th>\n",
              "      <th>data_size_h8(t)</th>\n",
              "    </tr>\n",
              "  </thead>\n",
              "  <tbody>\n",
              "    <tr>\n",
              "      <th>50</th>\n",
              "      <td>0.026923</td>\n",
              "      <td>0.0</td>\n",
              "      <td>0.0</td>\n",
              "      <td>0.0</td>\n",
              "      <td>0.0</td>\n",
              "      <td>0.0</td>\n",
              "      <td>0.0</td>\n",
              "      <td>0.0</td>\n",
              "      <td>0.0</td>\n",
              "      <td>0.0</td>\n",
              "      <td>...</td>\n",
              "      <td>0.0</td>\n",
              "      <td>0.0</td>\n",
              "      <td>0.0</td>\n",
              "      <td>0.0</td>\n",
              "      <td>0.0</td>\n",
              "      <td>0.0</td>\n",
              "      <td>0.0</td>\n",
              "      <td>0.0</td>\n",
              "      <td>0.0</td>\n",
              "      <td>0.0</td>\n",
              "    </tr>\n",
              "    <tr>\n",
              "      <th>51</th>\n",
              "      <td>0.038462</td>\n",
              "      <td>0.0</td>\n",
              "      <td>0.0</td>\n",
              "      <td>0.0</td>\n",
              "      <td>0.0</td>\n",
              "      <td>0.0</td>\n",
              "      <td>0.0</td>\n",
              "      <td>0.0</td>\n",
              "      <td>0.0</td>\n",
              "      <td>0.0</td>\n",
              "      <td>...</td>\n",
              "      <td>0.0</td>\n",
              "      <td>0.0</td>\n",
              "      <td>0.0</td>\n",
              "      <td>0.0</td>\n",
              "      <td>0.0</td>\n",
              "      <td>0.0</td>\n",
              "      <td>0.0</td>\n",
              "      <td>0.0</td>\n",
              "      <td>0.0</td>\n",
              "      <td>0.0</td>\n",
              "    </tr>\n",
              "    <tr>\n",
              "      <th>52</th>\n",
              "      <td>0.050000</td>\n",
              "      <td>0.0</td>\n",
              "      <td>0.0</td>\n",
              "      <td>0.0</td>\n",
              "      <td>0.0</td>\n",
              "      <td>0.0</td>\n",
              "      <td>0.0</td>\n",
              "      <td>0.0</td>\n",
              "      <td>0.0</td>\n",
              "      <td>0.0</td>\n",
              "      <td>...</td>\n",
              "      <td>0.0</td>\n",
              "      <td>0.0</td>\n",
              "      <td>0.0</td>\n",
              "      <td>0.0</td>\n",
              "      <td>0.0</td>\n",
              "      <td>0.0</td>\n",
              "      <td>0.0</td>\n",
              "      <td>0.0</td>\n",
              "      <td>0.0</td>\n",
              "      <td>0.0</td>\n",
              "    </tr>\n",
              "    <tr>\n",
              "      <th>53</th>\n",
              "      <td>0.061538</td>\n",
              "      <td>0.0</td>\n",
              "      <td>0.0</td>\n",
              "      <td>0.0</td>\n",
              "      <td>0.0</td>\n",
              "      <td>0.0</td>\n",
              "      <td>0.0</td>\n",
              "      <td>0.0</td>\n",
              "      <td>0.0</td>\n",
              "      <td>0.0</td>\n",
              "      <td>...</td>\n",
              "      <td>0.0</td>\n",
              "      <td>0.0</td>\n",
              "      <td>0.0</td>\n",
              "      <td>0.0</td>\n",
              "      <td>0.0</td>\n",
              "      <td>0.0</td>\n",
              "      <td>0.0</td>\n",
              "      <td>0.0</td>\n",
              "      <td>0.0</td>\n",
              "      <td>0.0</td>\n",
              "    </tr>\n",
              "    <tr>\n",
              "      <th>54</th>\n",
              "      <td>0.069231</td>\n",
              "      <td>0.0</td>\n",
              "      <td>0.0</td>\n",
              "      <td>0.0</td>\n",
              "      <td>0.0</td>\n",
              "      <td>0.0</td>\n",
              "      <td>0.0</td>\n",
              "      <td>0.0</td>\n",
              "      <td>0.0</td>\n",
              "      <td>0.0</td>\n",
              "      <td>...</td>\n",
              "      <td>0.0</td>\n",
              "      <td>0.0</td>\n",
              "      <td>0.0</td>\n",
              "      <td>0.0</td>\n",
              "      <td>0.0</td>\n",
              "      <td>0.0</td>\n",
              "      <td>0.0</td>\n",
              "      <td>0.0</td>\n",
              "      <td>0.0</td>\n",
              "      <td>0.0</td>\n",
              "    </tr>\n",
              "  </tbody>\n",
              "</table>\n",
              "<p>5 rows × 1530 columns</p>\n",
              "</div>"
            ],
            "text/plain": [
              "    cpu_sm_100(t-50)  apache(t-50)  n_packet(t-50)  n_byte(t-50)  \\\n",
              "50          0.026923           0.0             0.0           0.0   \n",
              "51          0.038462           0.0             0.0           0.0   \n",
              "52          0.050000           0.0             0.0           0.0   \n",
              "53          0.061538           0.0             0.0           0.0   \n",
              "54          0.069231           0.0             0.0           0.0   \n",
              "\n",
              "    n_flow_new(t-50)  n_flow_end(t-50)  n_data_ack(t-50)  iat_avg(t-50)  \\\n",
              "50               0.0               0.0               0.0            0.0   \n",
              "51               0.0               0.0               0.0            0.0   \n",
              "52               0.0               0.0               0.0            0.0   \n",
              "53               0.0               0.0               0.0            0.0   \n",
              "54               0.0               0.0               0.0            0.0   \n",
              "\n",
              "    iat_std(t-50)  iat_max(t-50)       ...         iat_h8(t)  iat_h9(t)  \\\n",
              "50            0.0            0.0       ...               0.0        0.0   \n",
              "51            0.0            0.0       ...               0.0        0.0   \n",
              "52            0.0            0.0       ...               0.0        0.0   \n",
              "53            0.0            0.0       ...               0.0        0.0   \n",
              "54            0.0            0.0       ...               0.0        0.0   \n",
              "\n",
              "    data_size_h1(t)  data_size_h2(t)  data_size_h3(t)  data_size_h4(t)  \\\n",
              "50              0.0              0.0              0.0              0.0   \n",
              "51              0.0              0.0              0.0              0.0   \n",
              "52              0.0              0.0              0.0              0.0   \n",
              "53              0.0              0.0              0.0              0.0   \n",
              "54              0.0              0.0              0.0              0.0   \n",
              "\n",
              "    data_size_h5(t)  data_size_h6(t)  data_size_h7(t)  data_size_h8(t)  \n",
              "50              0.0              0.0              0.0              0.0  \n",
              "51              0.0              0.0              0.0              0.0  \n",
              "52              0.0              0.0              0.0              0.0  \n",
              "53              0.0              0.0              0.0              0.0  \n",
              "54              0.0              0.0              0.0              0.0  \n",
              "\n",
              "[5 rows x 1530 columns]"
            ]
          },
          "metadata": {
            "tags": []
          },
          "execution_count": 11
        }
      ]
    },
    {
      "metadata": {
        "id": "0RvHuNqwjmNw",
        "colab": {
          "base_uri": "https://localhost:8080/",
          "height": 269
        },
        "outputId": "aabd034a-0293-4721-838b-b699ec12e526"
      },
      "cell_type": "code",
      "source": [
        "# drop irrelavant columns\n",
        "cols_to_drop = reframed.columns[[i * len(DATA_FIELDS) for i in range(0, seq_len)] \n",
        "                                + [i * len(DATA_FIELDS) + 1 for i in range(0, seq_len)] \n",
        "                                + [i for i in range(reframed.shape[1] - len(FEATURE_FIELDS), reframed.shape[1])]]\n",
        "reframed.drop(cols_to_drop, axis=1, inplace=True)\n",
        "reframed.head()"
      ],
      "execution_count": null,
      "outputs": [
        {
          "output_type": "execute_result",
          "data": {
            "text/html": [
              "<div>\n",
              "<style scoped>\n",
              "    .dataframe tbody tr th:only-of-type {\n",
              "        vertical-align: middle;\n",
              "    }\n",
              "\n",
              "    .dataframe tbody tr th {\n",
              "        vertical-align: top;\n",
              "    }\n",
              "\n",
              "    .dataframe thead th {\n",
              "        text-align: right;\n",
              "    }\n",
              "</style>\n",
              "<table border=\"1\" class=\"dataframe\">\n",
              "  <thead>\n",
              "    <tr style=\"text-align: right;\">\n",
              "      <th></th>\n",
              "      <th>n_packet(t-50)</th>\n",
              "      <th>n_byte(t-50)</th>\n",
              "      <th>n_flow_new(t-50)</th>\n",
              "      <th>n_flow_end(t-50)</th>\n",
              "      <th>n_data_ack(t-50)</th>\n",
              "      <th>iat_avg(t-50)</th>\n",
              "      <th>iat_std(t-50)</th>\n",
              "      <th>iat_max(t-50)</th>\n",
              "      <th>iat_min(t-50)</th>\n",
              "      <th>n_retransmission(t-50)</th>\n",
              "      <th>...</th>\n",
              "      <th>data_size_h1(t-1)</th>\n",
              "      <th>data_size_h2(t-1)</th>\n",
              "      <th>data_size_h3(t-1)</th>\n",
              "      <th>data_size_h4(t-1)</th>\n",
              "      <th>data_size_h5(t-1)</th>\n",
              "      <th>data_size_h6(t-1)</th>\n",
              "      <th>data_size_h7(t-1)</th>\n",
              "      <th>data_size_h8(t-1)</th>\n",
              "      <th>cpu_sm_100(t)</th>\n",
              "      <th>apache(t)</th>\n",
              "    </tr>\n",
              "  </thead>\n",
              "  <tbody>\n",
              "    <tr>\n",
              "      <th>50</th>\n",
              "      <td>0.0</td>\n",
              "      <td>0.0</td>\n",
              "      <td>0.0</td>\n",
              "      <td>0.0</td>\n",
              "      <td>0.0</td>\n",
              "      <td>0.0</td>\n",
              "      <td>0.0</td>\n",
              "      <td>0.0</td>\n",
              "      <td>0.0</td>\n",
              "      <td>0.0</td>\n",
              "      <td>...</td>\n",
              "      <td>0.0</td>\n",
              "      <td>0.0</td>\n",
              "      <td>0.0</td>\n",
              "      <td>0.0</td>\n",
              "      <td>0.0</td>\n",
              "      <td>0.0</td>\n",
              "      <td>0.0</td>\n",
              "      <td>0.0</td>\n",
              "      <td>0.553846</td>\n",
              "      <td>0.2</td>\n",
              "    </tr>\n",
              "    <tr>\n",
              "      <th>51</th>\n",
              "      <td>0.0</td>\n",
              "      <td>0.0</td>\n",
              "      <td>0.0</td>\n",
              "      <td>0.0</td>\n",
              "      <td>0.0</td>\n",
              "      <td>0.0</td>\n",
              "      <td>0.0</td>\n",
              "      <td>0.0</td>\n",
              "      <td>0.0</td>\n",
              "      <td>0.0</td>\n",
              "      <td>...</td>\n",
              "      <td>0.0</td>\n",
              "      <td>0.0</td>\n",
              "      <td>0.0</td>\n",
              "      <td>0.0</td>\n",
              "      <td>0.0</td>\n",
              "      <td>0.0</td>\n",
              "      <td>0.0</td>\n",
              "      <td>0.0</td>\n",
              "      <td>0.553846</td>\n",
              "      <td>0.2</td>\n",
              "    </tr>\n",
              "    <tr>\n",
              "      <th>52</th>\n",
              "      <td>0.0</td>\n",
              "      <td>0.0</td>\n",
              "      <td>0.0</td>\n",
              "      <td>0.0</td>\n",
              "      <td>0.0</td>\n",
              "      <td>0.0</td>\n",
              "      <td>0.0</td>\n",
              "      <td>0.0</td>\n",
              "      <td>0.0</td>\n",
              "      <td>0.0</td>\n",
              "      <td>...</td>\n",
              "      <td>0.0</td>\n",
              "      <td>0.0</td>\n",
              "      <td>0.0</td>\n",
              "      <td>0.0</td>\n",
              "      <td>0.0</td>\n",
              "      <td>0.0</td>\n",
              "      <td>0.0</td>\n",
              "      <td>0.0</td>\n",
              "      <td>0.553846</td>\n",
              "      <td>0.2</td>\n",
              "    </tr>\n",
              "    <tr>\n",
              "      <th>53</th>\n",
              "      <td>0.0</td>\n",
              "      <td>0.0</td>\n",
              "      <td>0.0</td>\n",
              "      <td>0.0</td>\n",
              "      <td>0.0</td>\n",
              "      <td>0.0</td>\n",
              "      <td>0.0</td>\n",
              "      <td>0.0</td>\n",
              "      <td>0.0</td>\n",
              "      <td>0.0</td>\n",
              "      <td>...</td>\n",
              "      <td>0.0</td>\n",
              "      <td>0.0</td>\n",
              "      <td>0.0</td>\n",
              "      <td>0.0</td>\n",
              "      <td>0.0</td>\n",
              "      <td>0.0</td>\n",
              "      <td>0.0</td>\n",
              "      <td>0.0</td>\n",
              "      <td>0.553846</td>\n",
              "      <td>0.4</td>\n",
              "    </tr>\n",
              "    <tr>\n",
              "      <th>54</th>\n",
              "      <td>0.0</td>\n",
              "      <td>0.0</td>\n",
              "      <td>0.0</td>\n",
              "      <td>0.0</td>\n",
              "      <td>0.0</td>\n",
              "      <td>0.0</td>\n",
              "      <td>0.0</td>\n",
              "      <td>0.0</td>\n",
              "      <td>0.0</td>\n",
              "      <td>0.0</td>\n",
              "      <td>...</td>\n",
              "      <td>0.0</td>\n",
              "      <td>0.0</td>\n",
              "      <td>0.0</td>\n",
              "      <td>0.0</td>\n",
              "      <td>0.0</td>\n",
              "      <td>0.0</td>\n",
              "      <td>0.0</td>\n",
              "      <td>0.0</td>\n",
              "      <td>0.553846</td>\n",
              "      <td>0.2</td>\n",
              "    </tr>\n",
              "  </tbody>\n",
              "</table>\n",
              "<p>5 rows × 1402 columns</p>\n",
              "</div>"
            ],
            "text/plain": [
              "    n_packet(t-50)  n_byte(t-50)  n_flow_new(t-50)  n_flow_end(t-50)  \\\n",
              "50             0.0           0.0               0.0               0.0   \n",
              "51             0.0           0.0               0.0               0.0   \n",
              "52             0.0           0.0               0.0               0.0   \n",
              "53             0.0           0.0               0.0               0.0   \n",
              "54             0.0           0.0               0.0               0.0   \n",
              "\n",
              "    n_data_ack(t-50)  iat_avg(t-50)  iat_std(t-50)  iat_max(t-50)  \\\n",
              "50               0.0            0.0            0.0            0.0   \n",
              "51               0.0            0.0            0.0            0.0   \n",
              "52               0.0            0.0            0.0            0.0   \n",
              "53               0.0            0.0            0.0            0.0   \n",
              "54               0.0            0.0            0.0            0.0   \n",
              "\n",
              "    iat_min(t-50)  n_retransmission(t-50)    ...      data_size_h1(t-1)  \\\n",
              "50            0.0                     0.0    ...                    0.0   \n",
              "51            0.0                     0.0    ...                    0.0   \n",
              "52            0.0                     0.0    ...                    0.0   \n",
              "53            0.0                     0.0    ...                    0.0   \n",
              "54            0.0                     0.0    ...                    0.0   \n",
              "\n",
              "    data_size_h2(t-1)  data_size_h3(t-1)  data_size_h4(t-1)  \\\n",
              "50                0.0                0.0                0.0   \n",
              "51                0.0                0.0                0.0   \n",
              "52                0.0                0.0                0.0   \n",
              "53                0.0                0.0                0.0   \n",
              "54                0.0                0.0                0.0   \n",
              "\n",
              "    data_size_h5(t-1)  data_size_h6(t-1)  data_size_h7(t-1)  \\\n",
              "50                0.0                0.0                0.0   \n",
              "51                0.0                0.0                0.0   \n",
              "52                0.0                0.0                0.0   \n",
              "53                0.0                0.0                0.0   \n",
              "54                0.0                0.0                0.0   \n",
              "\n",
              "    data_size_h8(t-1)  cpu_sm_100(t)  apache(t)  \n",
              "50                0.0       0.553846        0.2  \n",
              "51                0.0       0.553846        0.2  \n",
              "52                0.0       0.553846        0.2  \n",
              "53                0.0       0.553846        0.4  \n",
              "54                0.0       0.553846        0.2  \n",
              "\n",
              "[5 rows x 1402 columns]"
            ]
          },
          "metadata": {
            "tags": []
          },
          "execution_count": 12
        }
      ]
    },
    {
      "metadata": {
        "id": "O8SKzvJ3lCj1"
      },
      "cell_type": "code",
      "source": [
        "# Get X and Y\n",
        "X, Y = reframed.iloc[:, :-2], reframed.iloc[:, -2:]"
      ],
      "execution_count": null,
      "outputs": []
    },
    {
      "metadata": {
        "id": "GWTqovD5lCxx",
        "colab": {
          "base_uri": "https://localhost:8080/",
          "height": 35
        },
        "outputId": "6ea292b8-465b-4c4f-fd96-c28780f81e57"
      },
      "cell_type": "code",
      "source": [
        "dt = 0.2\n",
        "t_step = int(dt / 0.01)\n",
        "gt_id = 0\n",
        "\n",
        "train_X, train_y = X.iloc[::t_step, :], Y.iloc[::t_step, :]\n",
        "test_X, test_y = X.iloc[int(t_step / 2)::t_step, :], Y.iloc[int(t_step / 2)::t_step, :]\n",
        "\n",
        "train_y = train_y[GT_FIELDS[gt_id] + '(t)']\n",
        "test_y = test_y[GT_FIELDS[gt_id] + '(t)']\n",
        "\n",
        "# reshape input to be 3D [samples, timesteps, features]\n",
        "train_X = train_X.values.reshape((train_X.shape[0], seq_len, int(train_X.shape[1] / seq_len)))\n",
        "test_X = test_X.values.reshape((test_X.shape[0], seq_len, int(test_X.shape[1] / seq_len)))\n",
        "\n",
        "# reshape output to be 2D [samples, 1]\n",
        "train_y = train_y.values.reshape((-1, 1))\n",
        "test_y = test_y.values.reshape((-1, 1))\n",
        "\n",
        "print(train_X.shape, train_y.shape, test_X.shape, test_y.shape)"
      ],
      "execution_count": null,
      "outputs": [
        {
          "output_type": "stream",
          "text": [
            "(248, 50, 28) (248, 1) (247, 50, 28) (247, 1)\n"
          ],
          "name": "stdout"
        }
      ]
    },
    {
      "metadata": {
        "id": "3Hc8u3RYlN-y",
        "colab": {
          "base_uri": "https://localhost:8080/",
          "height": 316
        },
        "outputId": "d503e9f3-4c9e-4319-e01e-8827e9aeb6ff"
      },
      "cell_type": "code",
      "source": [
        "# model parameters:\n",
        "embedding_dims = 10\n",
        "lstm_units = 32\n",
        "\n",
        "print('Build model...')\n",
        "model = Sequential()\n",
        "\n",
        "# model.add(Embedding(28,\n",
        "#                     embedding_dims,\n",
        "#                     input_length=50))\n",
        "# model.add(Dropout(0.2))\n",
        "\n",
        "model.add(CuDNNLSTM(lstm_units, input_shape=(50, 28), return_sequences=True))\n",
        "model.add(Dropout(0.2))\n",
        "model.add(CuDNNLSTM(lstm_units))\n",
        "# or if running on a GPU:\n",
        "\n",
        "# To stack multiple RNN layers, all RNN layers except the last one need\n",
        "# to have \"return_sequences=True\".  An example of using two RNN layers:\n",
        "#model.add(LSTM(lstm_units, return_sequences=True))\n",
        "#model.add(LSTM(lstm_units))\n",
        "\n",
        "model.add(Dense(1))\n",
        "\n",
        "\n",
        "# try using different optimizers and different optimizer configs\n",
        "model.compile(loss='mse', optimizer='adam', metrics=['mse', 'mae', 'mape', 'cosine'])\n",
        "\n",
        "print(model.summary())"
      ],
      "execution_count": null,
      "outputs": [
        {
          "output_type": "stream",
          "text": [
            "Build model...\n",
            "_________________________________________________________________\n",
            "Layer (type)                 Output Shape              Param #   \n",
            "=================================================================\n",
            "cu_dnnlstm_1 (CuDNNLSTM)     (None, 50, 32)            7936      \n",
            "_________________________________________________________________\n",
            "dropout_1 (Dropout)          (None, 50, 32)            0         \n",
            "_________________________________________________________________\n",
            "cu_dnnlstm_2 (CuDNNLSTM)     (None, 32)                8448      \n",
            "_________________________________________________________________\n",
            "dense_1 (Dense)              (None, 1)                 33        \n",
            "=================================================================\n",
            "Total params: 16,417\n",
            "Trainable params: 16,417\n",
            "Non-trainable params: 0\n",
            "_________________________________________________________________\n",
            "None\n"
          ],
          "name": "stdout"
        }
      ]
    },
    {
      "metadata": {
        "id": "n2FkIvn0lN7x",
        "colab": {
          "base_uri": "https://localhost:8080/",
          "height": 266
        },
        "outputId": "0df31fe5-da07-432b-923b-2b87fdaf54b3"
      },
      "cell_type": "code",
      "source": [
        "%%time\n",
        "epochs = 5\n",
        "validation_split = 0.2\n",
        "\n",
        "history = model.fit(train_X, train_y, batch_size=4,\n",
        "          epochs=epochs, \n",
        "          validation_split=validation_split)"
      ],
      "execution_count": null,
      "outputs": [
        {
          "output_type": "stream",
          "text": [
            "Train on 198 samples, validate on 50 samples\n",
            "Epoch 1/5\n",
            "198/198 [==============================] - 5s 27ms/step - loss: 0.0742 - mean_squared_error: 0.0742 - mean_absolute_error: 0.2149 - mean_absolute_percentage_error: 60.9461 - cosine_proximity: -0.9394 - val_loss: 0.0165 - val_mean_squared_error: 0.0165 - val_mean_absolute_error: 0.1010 - val_mean_absolute_percentage_error: 19.5972 - val_cosine_proximity: -1.0000\n",
            "Epoch 2/5\n",
            "198/198 [==============================] - 1s 6ms/step - loss: 0.0327 - mean_squared_error: 0.0327 - mean_absolute_error: 0.1474 - mean_absolute_percentage_error: 44.1276 - cosine_proximity: -1.0000 - val_loss: 0.0185 - val_mean_squared_error: 0.0185 - val_mean_absolute_error: 0.1086 - val_mean_absolute_percentage_error: 19.7636 - val_cosine_proximity: -1.0000\n",
            "Epoch 3/5\n",
            "198/198 [==============================] - 1s 6ms/step - loss: 0.0317 - mean_squared_error: 0.0317 - mean_absolute_error: 0.1425 - mean_absolute_percentage_error: 44.8555 - cosine_proximity: -1.0000 - val_loss: 0.0303 - val_mean_squared_error: 0.0303 - val_mean_absolute_error: 0.1431 - val_mean_absolute_percentage_error: 23.9960 - val_cosine_proximity: -1.0000\n",
            "Epoch 4/5\n",
            "198/198 [==============================] - 1s 6ms/step - loss: 0.0311 - mean_squared_error: 0.0311 - mean_absolute_error: 0.1435 - mean_absolute_percentage_error: 45.1443 - cosine_proximity: -1.0000 - val_loss: 0.0188 - val_mean_squared_error: 0.0188 - val_mean_absolute_error: 0.1096 - val_mean_absolute_percentage_error: 19.9109 - val_cosine_proximity: -1.0000\n",
            "Epoch 5/5\n",
            "198/198 [==============================] - 1s 6ms/step - loss: 0.0302 - mean_squared_error: 0.0302 - mean_absolute_error: 0.1412 - mean_absolute_percentage_error: 43.6387 - cosine_proximity: -1.0000 - val_loss: 0.0241 - val_mean_squared_error: 0.0241 - val_mean_absolute_error: 0.1256 - val_mean_absolute_percentage_error: 21.6295 - val_cosine_proximity: -1.0000\n",
            "CPU times: user 7.31 s, sys: 1.88 s, total: 9.2 s\n",
            "Wall time: 10.7 s\n"
          ],
          "name": "stdout"
        }
      ]
    },
    {
      "metadata": {
        "id": "7tWzOyebjmKj",
        "colab": {
          "base_uri": "https://localhost:8080/",
          "height": 435
        },
        "outputId": "73d0c7b9-234e-44b0-fed7-29d81f9d2561"
      },
      "cell_type": "code",
      "source": [
        "plt.figure(figsize=(5,3))\n",
        "plt.plot(history.epoch,history.history['loss'], label='training')\n",
        "plt.plot(history.epoch,history.history['val_loss'], label='validation')\n",
        "plt.title('loss')\n",
        "plt.legend(loc='best')\n",
        "\n",
        "plt.figure(figsize=(5,3))\n",
        "plt.plot(history.epoch,history.history['mean_absolute_error'], label='training')\n",
        "plt.plot(history.epoch,history.history['val_mean_absolute_error'], label='validation')\n",
        "plt.title('accuracy')\n",
        "plt.legend(loc='best');"
      ],
      "execution_count": null,
      "outputs": [
        {
          "output_type": "display_data",
          "data": {
            "image/png": "[encoded data removed]",
            "text/plain": [
              "<matplotlib.figure.Figure at 0x7f05e0403f28>"
            ]
          },
          "metadata": {
            "tags": []
          }
        },
        {
          "output_type": "display_data",
          "data": {
            "image/png": "[encoded data removed]",
            "text/plain": [
              "<matplotlib.figure.Figure at 0x7f05e0359e80>"
            ]
          },
          "metadata": {
            "tags": []
          }
        }
      ]
    },
    {
      "metadata": {
        "id": "RjRZlOJ_r3oh",
        "colab": {
          "base_uri": "https://localhost:8080/",
          "height": 35
        },
        "outputId": "e12d2625-e05f-4c4f-dc7c-5ae55a5df357"
      },
      "cell_type": "code",
      "source": [
        "scores = model.evaluate(test_X, test_y, verbose=2)\n",
        "print(\"%s: %.2f%%\" % (model.metrics_names[1], scores[1]*100))"
      ],
      "execution_count": null,
      "outputs": [
        {
          "output_type": "stream",
          "text": [
            "mean_squared_error: 3.07%\n"
          ],
          "name": "stdout"
        }
      ]
    }
  ]
}