{
  "nbformat": 4,
  "nbformat_minor": 0,
  "metadata": {
    "colab": {
      "provenance": []
    },
    "kernelspec": {
      "name": "python3",
      "display_name": "Python 3"
    },
    "accelerator": "GPU"
  },
  "cells": [
    {
      "metadata": {
        "id": "Ot79jiI7GiHR"
      },
      "cell_type": "markdown",
      "source": [
        "# Setup "
      ]
    },
    {
      "metadata": {
        "id": "xdHrJctkrH9U"
      },
      "cell_type": "code",
      "source": [
        "%%capture\n",
        "!pip install watermark"
      ],
      "execution_count": null,
      "outputs": []
    },
    {
      "metadata": {
        "id": "conjYMPerLfW",
        "colab": {
          "base_uri": "https://localhost:8080/",
          "height": 193
        },
        "outputId": "22f25a9c-733e-425e-99d6-877ecb5dc2c3"
      },
      "cell_type": "code",
      "source": [
        "%load_ext watermark\n",
        "%watermark -p tensorflow,numpy -m"
      ],
      "execution_count": null,
      "outputs": [
        {
          "output_type": "stream",
          "text": [
            "tensorflow 1.12.0\n",
            "numpy 1.14.6\n",
            "\n",
            "compiler   : GCC 8.0.1 20180414 (experimental) [trunk revision 259383\n",
            "system     : Linux\n",
            "release    : 4.14.65+\n",
            "machine    : x86_64\n",
            "processor  : x86_64\n",
            "CPU cores  : 2\n",
            "interpreter: 64bit\n"
          ],
          "name": "stdout"
        }
      ]
    },
    {
      "metadata": {
        "id": "m3HdMsWg1GOi"
      },
      "cell_type": "code",
      "source": [
        "import os\n",
        "\n",
        "import tensorflow as tf\n",
        "import numpy as np\n",
        "import pandas as pd\n",
        "from sklearn.model_selection import StratifiedShuffleSplit"
      ],
      "execution_count": null,
      "outputs": []
    },
    {
      "metadata": {
        "id": "Ef3ROFfNrJY9"
      },
      "cell_type": "markdown",
      "source": [
        "# Data\n"
      ]
    },
    {
      "metadata": {
        "id": "Zo-Yk6LFGfSf",
        "colab": {
          "base_uri": "https://localhost:8080/",
          "height": 158
        },
        "outputId": "0dcd1396-fa43-4ade-8c8f-4a60f985080e"
      },
      "cell_type": "code",
      "source": [
        "(x_train, y_train), (x_test, y_test) = tf.keras.datasets.fashion_mnist.load_data()\n",
        "\n",
        "# add empty color dimension\n",
        "x_train = np.expand_dims(x_train, -1)\n",
        "x_test = np.expand_dims(x_test, -1)"
      ],
      "execution_count": null,
      "outputs": [
        {
          "output_type": "stream",
          "text": [
            "Downloading data from https://storage.googleapis.com/tensorflow/tf-keras-datasets/train-labels-idx1-ubyte.gz\n",
            "32768/29515 [=================================] - 0s 0us/step\n",
            "Downloading data from https://storage.googleapis.com/tensorflow/tf-keras-datasets/train-images-idx3-ubyte.gz\n",
            "26427392/26421880 [==============================] - 1s 0us/step\n",
            "Downloading data from https://storage.googleapis.com/tensorflow/tf-keras-datasets/t10k-labels-idx1-ubyte.gz\n",
            "8192/5148 [===============================================] - 0s 0us/step\n",
            "Downloading data from https://storage.googleapis.com/tensorflow/tf-keras-datasets/t10k-images-idx3-ubyte.gz\n",
            "4423680/4422102 [==============================] - 0s 0us/step\n"
          ],
          "name": "stdout"
        }
      ]
    },
    {
      "metadata": {
        "id": "bIBg5cUtso-o"
      },
      "cell_type": "markdown",
      "source": [
        "Value distribution of X:"
      ]
    },
    {
      "metadata": {
        "id": "4OMHWt6osCz3",
        "colab": {
          "base_uri": "https://localhost:8080/",
          "height": 175
        },
        "outputId": "1197c625-aa5e-4bd8-87fb-8ee610d398d6"
      },
      "cell_type": "code",
      "source": [
        "pd.set_option('display.float_format', lambda x: '%.3f' % x)\n",
        "pd.Series(x_train.reshape(-1)).describe()"
      ],
      "execution_count": null,
      "outputs": [
        {
          "output_type": "execute_result",
          "data": {
            "text/plain": [
              "count   47040000.000\n",
              "mean          72.940\n",
              "std           90.021\n",
              "min            0.000\n",
              "25%            0.000\n",
              "50%            0.000\n",
              "75%          163.000\n",
              "max          255.000\n",
              "dtype: float64"
            ]
          },
          "metadata": {
            "tags": []
          },
          "execution_count": 5
        }
      ]
    },
    {
      "metadata": {
        "id": "1C-WcdnNsyFU"
      },
      "cell_type": "markdown",
      "source": [
        "Value distribution of Y:\n"
      ]
    },
    {
      "metadata": {
        "id": "MCOsHdxEsjQD",
        "colab": {
          "base_uri": "https://localhost:8080/",
          "height": 175
        },
        "outputId": "af7a8131-53cb-4c33-d39e-76bb5ab0c624"
      },
      "cell_type": "code",
      "source": [
        "pd.Series(y_train.reshape(-1)).describe()"
      ],
      "execution_count": null,
      "outputs": [
        {
          "output_type": "execute_result",
          "data": {
            "text/plain": [
              "count   60000.000\n",
              "mean        4.500\n",
              "std         2.872\n",
              "min         0.000\n",
              "25%         2.000\n",
              "50%         4.500\n",
              "75%         7.000\n",
              "max         9.000\n",
              "dtype: float64"
            ]
          },
          "metadata": {
            "tags": []
          },
          "execution_count": 6
        }
      ]
    },
    {
      "metadata": {
        "id": "Lx_VvBFNxHsr"
      },
      "cell_type": "markdown",
      "source": [
        "### Validation set"
      ]
    },
    {
      "metadata": {
        "id": "flkZMTP7xGvc",
        "colab": {
          "base_uri": "https://localhost:8080/",
          "height": 35
        },
        "outputId": "3746276f-2a56-4e9d-ac5c-59fc3eb1e848"
      },
      "cell_type": "code",
      "source": [
        "sss = StratifiedShuffleSplit(n_splits=5, random_state=0, test_size=1/6)\n",
        "train_index, valid_index = next(sss.split(x_train, y_train))\n",
        "x_valid, y_valid = x_train[valid_index], y_train[valid_index]\n",
        "x_train, y_train = x_train[train_index], y_train[train_index]\n",
        "print(x_train.shape, x_valid.shape, x_test.shape)"
      ],
      "execution_count": null,
      "outputs": [
        {
          "output_type": "stream",
          "text": [
            "(50000, 28, 28, 1) (10000, 28, 28, 1) (10000, 28, 28, 1)\n"
          ],
          "name": "stdout"
        }
      ]
    },
    {
      "metadata": {
        "id": "Hgc2FZKVMx15"
      },
      "cell_type": "markdown",
      "source": [
        "# Model\n",
        "\n",
        "Standard Convolutional Neural Network: 3 layers with drop-out and batch normalization between each layer."
      ]
    },
    {
      "metadata": {
        "id": "W7gMbs70GxA7",
        "colab": {
          "base_uri": "https://localhost:8080/",
          "height": 774
        },
        "outputId": "c8bf9478-0ffa-413c-c559-46d88dec9a3f"
      },
      "cell_type": "code",
      "source": [
        "model = tf.keras.models.Sequential()\n",
        "model.add(tf.keras.layers.BatchNormalization(input_shape=x_train.shape[1:]))\n",
        "model.add(tf.keras.layers.Conv2D(64, (5, 5), padding='same', activation='elu'))\n",
        "model.add(tf.keras.layers.MaxPooling2D(pool_size=(2, 2), strides=(2,2)))\n",
        "model.add(tf.keras.layers.Dropout(0.25))\n",
        "\n",
        "model.add(tf.keras.layers.BatchNormalization(input_shape=x_train.shape[1:]))\n",
        "model.add(tf.keras.layers.Conv2D(128, (5, 5), padding='same', activation='elu'))\n",
        "model.add(tf.keras.layers.MaxPooling2D(pool_size=(2, 2)))\n",
        "model.add(tf.keras.layers.Dropout(0.25))\n",
        "\n",
        "model.add(tf.keras.layers.BatchNormalization(input_shape=x_train.shape[1:]))\n",
        "model.add(tf.keras.layers.Conv2D(256, (5, 5), padding='same', activation='elu'))\n",
        "model.add(tf.keras.layers.MaxPooling2D(pool_size=(2, 2), strides=(2,2)))\n",
        "model.add(tf.keras.layers.Dropout(0.25))\n",
        "\n",
        "model.add(tf.keras.layers.Flatten())\n",
        "model.add(tf.keras.layers.Dense(256))\n",
        "model.add(tf.keras.layers.Activation('elu'))\n",
        "model.add(tf.keras.layers.Dropout(0.5))\n",
        "model.add(tf.keras.layers.Dense(10))\n",
        "model.add(tf.keras.layers.Activation('softmax'))\n",
        "model.summary()"
      ],
      "execution_count": null,
      "outputs": [
        {
          "output_type": "stream",
          "text": [
            "_________________________________________________________________\n",
            "Layer (type)                 Output Shape              Param #   \n",
            "=================================================================\n",
            "batch_normalization (BatchNo (None, 28, 28, 1)         4         \n",
            "_________________________________________________________________\n",
            "conv2d (Conv2D)              (None, 28, 28, 64)        1664      \n",
            "_________________________________________________________________\n",
            "max_pooling2d (MaxPooling2D) (None, 14, 14, 64)        0         \n",
            "_________________________________________________________________\n",
            "dropout (Dropout)            (None, 14, 14, 64)        0         \n",
            "_________________________________________________________________\n",
            "batch_normalization_1 (Batch (None, 14, 14, 64)        256       \n",
            "_________________________________________________________________\n",
            "conv2d_1 (Conv2D)            (None, 14, 14, 128)       204928    \n",
            "_________________________________________________________________\n",
            "max_pooling2d_1 (MaxPooling2 (None, 7, 7, 128)         0         \n",
            "_________________________________________________________________\n",
            "dropout_1 (Dropout)          (None, 7, 7, 128)         0         \n",
            "_________________________________________________________________\n",
            "batch_normalization_2 (Batch (None, 7, 7, 128)         512       \n",
            "_________________________________________________________________\n",
            "conv2d_2 (Conv2D)            (None, 7, 7, 256)         819456    \n",
            "_________________________________________________________________\n",
            "max_pooling2d_2 (MaxPooling2 (None, 3, 3, 256)         0         \n",
            "_________________________________________________________________\n",
            "dropout_2 (Dropout)          (None, 3, 3, 256)         0         \n",
            "_________________________________________________________________\n",
            "flatten (Flatten)            (None, 2304)              0         \n",
            "_________________________________________________________________\n",
            "dense (Dense)                (None, 256)               590080    \n",
            "_________________________________________________________________\n",
            "activation (Activation)      (None, 256)               0         \n",
            "_________________________________________________________________\n",
            "dropout_3 (Dropout)          (None, 256)               0         \n",
            "_________________________________________________________________\n",
            "dense_1 (Dense)              (None, 10)                2570      \n",
            "_________________________________________________________________\n",
            "activation_1 (Activation)    (None, 10)                0         \n",
            "=================================================================\n",
            "Total params: 1,619,470\n",
            "Trainable params: 1,619,084\n",
            "Non-trainable params: 386\n",
            "_________________________________________________________________\n"
          ],
          "name": "stdout"
        }
      ]
    },
    {
      "metadata": {
        "id": "xLeZATVaNAnE"
      },
      "cell_type": "markdown",
      "source": [
        "# Training\n",
        "\n"
      ]
    },
    {
      "metadata": {
        "id": "pWEYmd_hIWg8"
      },
      "cell_type": "code",
      "source": [
        "model.compile(\n",
        "    optimizer=tf.train.AdamOptimizer(learning_rate=1e-3, ),\n",
        "    loss=tf.keras.losses.sparse_categorical_crossentropy,\n",
        "    metrics=['sparse_categorical_accuracy']\n",
        ")"
      ],
      "execution_count": null,
      "outputs": []
    },
    {
      "metadata": {
        "id": "V1Zf7QtDvJAU",
        "colab": {
          "base_uri": "https://localhost:8080/",
          "height": 580
        },
        "outputId": "13e79ba4-adbc-4a3b-b4d5-5dbad18d7946"
      },
      "cell_type": "code",
      "source": [
        "%%time\n",
        "def train_gen(batch_size):\n",
        "  while True:\n",
        "    offset = np.random.randint(0, x_train.shape[0] - batch_size)\n",
        "    yield x_train[offset:offset+batch_size], y_train[offset:offset + batch_size]\n",
        "    \n",
        "\n",
        "model.fit_generator(\n",
        "    train_gen(512),\n",
        "    epochs=15,\n",
        "    steps_per_epoch=100,\n",
        "    validation_data=(x_valid, y_valid)\n",
        ")"
      ],
      "execution_count": null,
      "outputs": [
        {
          "output_type": "stream",
          "text": [
            "Epoch 1/15\n",
            "100/100 [==============================] - 18s 184ms/step - loss: 1.0343 - sparse_categorical_accuracy: 0.7166 - val_loss: 1.3659 - val_sparse_categorical_accuracy: 0.6235\n",
            "Epoch 2/15\n",
            "100/100 [==============================] - 13s 130ms/step - loss: 0.4910 - sparse_categorical_accuracy: 0.8329 - val_loss: 1.3595 - val_sparse_categorical_accuracy: 0.6332\n",
            "Epoch 3/15\n",
            "100/100 [==============================] - 13s 130ms/step - loss: 0.3998 - sparse_categorical_accuracy: 0.8606 - val_loss: 0.5111 - val_sparse_categorical_accuracy: 0.8123\n",
            "Epoch 4/15\n",
            "100/100 [==============================] - 13s 130ms/step - loss: 0.3440 - sparse_categorical_accuracy: 0.8773 - val_loss: 0.3880 - val_sparse_categorical_accuracy: 0.8589\n",
            "Epoch 5/15\n",
            "100/100 [==============================] - 13s 130ms/step - loss: 0.3043 - sparse_categorical_accuracy: 0.8907 - val_loss: 0.2717 - val_sparse_categorical_accuracy: 0.9011\n",
            "Epoch 6/15\n",
            "100/100 [==============================] - 13s 131ms/step - loss: 0.2842 - sparse_categorical_accuracy: 0.8976 - val_loss: 0.2768 - val_sparse_categorical_accuracy: 0.9007\n",
            "Epoch 7/15\n",
            "100/100 [==============================] - 13s 130ms/step - loss: 0.2543 - sparse_categorical_accuracy: 0.9073 - val_loss: 0.2416 - val_sparse_categorical_accuracy: 0.9134\n",
            "Epoch 8/15\n",
            "100/100 [==============================] - 13s 130ms/step - loss: 0.2283 - sparse_categorical_accuracy: 0.9156 - val_loss: 0.2207 - val_sparse_categorical_accuracy: 0.9228\n",
            "Epoch 9/15\n",
            "100/100 [==============================] - 13s 130ms/step - loss: 0.2036 - sparse_categorical_accuracy: 0.9254 - val_loss: 0.2354 - val_sparse_categorical_accuracy: 0.9221\n",
            "Epoch 10/15\n",
            "100/100 [==============================] - 13s 130ms/step - loss: 0.1952 - sparse_categorical_accuracy: 0.9279 - val_loss: 0.2294 - val_sparse_categorical_accuracy: 0.9215\n",
            "Epoch 11/15\n",
            "100/100 [==============================] - 13s 130ms/step - loss: 0.1852 - sparse_categorical_accuracy: 0.9310 - val_loss: 0.2440 - val_sparse_categorical_accuracy: 0.9140\n",
            "Epoch 12/15\n",
            "100/100 [==============================] - 13s 131ms/step - loss: 0.1734 - sparse_categorical_accuracy: 0.9346 - val_loss: 0.2214 - val_sparse_categorical_accuracy: 0.9242\n",
            "Epoch 13/15\n",
            "100/100 [==============================] - 13s 130ms/step - loss: 0.1615 - sparse_categorical_accuracy: 0.9405 - val_loss: 0.2235 - val_sparse_categorical_accuracy: 0.9238\n",
            "Epoch 14/15\n",
            "100/100 [==============================] - 13s 130ms/step - loss: 0.1530 - sparse_categorical_accuracy: 0.9416 - val_loss: 0.2154 - val_sparse_categorical_accuracy: 0.9261\n",
            "Epoch 15/15\n",
            "100/100 [==============================] - 13s 130ms/step - loss: 0.1461 - sparse_categorical_accuracy: 0.9463 - val_loss: 0.2294 - val_sparse_categorical_accuracy: 0.9252\n",
            "CPU times: user 1min 27s, sys: 19.6 s, total: 1min 46s\n",
            "Wall time: 3min 21s\n"
          ],
          "name": "stdout"
        }
      ]
    },
    {
      "metadata": {
        "id": "ESL6ltQTMm05"
      },
      "cell_type": "markdown",
      "source": [
        "# Testing"
      ]
    },
    {
      "metadata": {
        "id": "SaYPv_aKId2d",
        "colab": {
          "base_uri": "https://localhost:8080/",
          "height": 586
        },
        "outputId": "f0ea39e2-3d0f-486d-c69b-aaf8be72ce82"
      },
      "cell_type": "code",
      "source": [
        "LABEL_NAMES = ['t_shirt', 'trouser', 'pullover', 'dress', 'coat', 'sandal', 'shirt', 'sneaker', 'bag', 'ankle_boots']\n",
        "\n",
        "from matplotlib import pyplot\n",
        "%matplotlib inline\n",
        "\n",
        "def plot_predictions(images, predictions, true_labels):\n",
        "  n = images.shape[0]\n",
        "  nc = int(np.ceil(n / 4))\n",
        "  fig = pyplot.figure(figsize=(4,3))\n",
        "  # axes = fig.add_subplot(nc, 4)\n",
        "  f, axes = pyplot.subplots(nc, 4)\n",
        "  f.tight_layout()\n",
        "  for i in range(nc * 4):\n",
        "    y = i // 4\n",
        "    x = i % 4\n",
        "    axes[x, y].axis('off')\n",
        "    \n",
        "    label = LABEL_NAMES[np.argmax(predictions[i])]\n",
        "    confidence = np.max(predictions[i])\n",
        "    if i > n:\n",
        "      continue\n",
        "    axes[x, y].imshow(images[i])\n",
        "    pred_label = np.argmax(predictions[i])\n",
        "    axes[x, y].set_title(\"{} ({})\\n {:.3f}\".format(\n",
        "      LABEL_NAMES[pred_label], \n",
        "      LABEL_NAMES[true_labels[i]],\n",
        "      confidence\n",
        "    ), color=(\"green\" if true_labels[i] == pred_label else \"red\"))\n",
        "  pyplot.gcf().set_size_inches(8, 8)  \n",
        "\n",
        "plot_predictions(\n",
        "    np.squeeze(x_test[:16]), \n",
        "    model.predict(x_test[:16]),\n",
        "    y_test[:16]\n",
        ")"
      ],
      "execution_count": null,
      "outputs": [
        {
          "output_type": "display_data",
          "data": {
            "text/plain": [
              "<matplotlib.figure.Figure at 0x7feabe5326a0>"
            ]
          },
          "metadata": {
            "tags": []
          }
        },
        {
          "output_type": "display_data",
          "data": {
            "image/png": "[encoded data removed]",
            "text/plain": [
              "<matplotlib.figure.Figure at 0x7fea662682b0>"
            ]
          },
          "metadata": {
            "tags": []
          }
        }
      ]
    },
    {
      "metadata": {
        "id": "e0m_OqgFzAK6",
        "colab": {
          "base_uri": "https://localhost:8080/",
          "height": 87
        },
        "outputId": "2e140936-7b78-4c3a-abb6-d45afa10f9b8"
      },
      "cell_type": "code",
      "source": [
        "%%time\n",
        "# Evaluate the model on valid set\n",
        "score = model.evaluate(x_valid, y_valid, verbose=0)\n",
        "\n",
        "# Print test accuracy\n",
        "print('\\n', 'Valid accuracy:', score[1])"
      ],
      "execution_count": null,
      "outputs": [
        {
          "output_type": "stream",
          "text": [
            "\n",
            " Valid accuracy: 0.9252\n",
            "CPU times: user 1.25 s, sys: 208 ms, total: 1.46 s\n",
            "Wall time: 1.93 s\n"
          ],
          "name": "stdout"
        }
      ]
    },
    {
      "metadata": {
        "id": "VgNcgjnMt6ER",
        "colab": {
          "base_uri": "https://localhost:8080/",
          "height": 87
        },
        "outputId": "4f321759-7d43-4b53-b4c7-433ce3477da7"
      },
      "cell_type": "code",
      "source": [
        "%%time\n",
        "# Evaluate the model on test set\n",
        "score = model.evaluate(x_test, y_test, verbose=0)\n",
        "\n",
        "# Print test accuracy\n",
        "print('\\n', 'Test accuracy:', score[1])"
      ],
      "execution_count": null,
      "outputs": [
        {
          "output_type": "stream",
          "text": [
            "\n",
            " Test accuracy: 0.9204\n",
            "CPU times: user 1.27 s, sys: 183 ms, total: 1.46 s\n",
            "Wall time: 1.82 s\n"
          ],
          "name": "stdout"
        }
      ]
    }
  ]
}
